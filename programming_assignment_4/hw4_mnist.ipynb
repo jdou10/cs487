{
  "nbformat": 4,
  "nbformat_minor": 0,
  "metadata": {
    "colab": {
      "name": "hw4_mnist",
      "provenance": [],
      "collapsed_sections": []
    },
    "kernelspec": {
      "name": "python3",
      "display_name": "Python 3"
    },
    "language_info": {
      "name": "python"
    }
  },
  "cells": [
    {
      "cell_type": "code",
      "execution_count": 23,
      "metadata": {
        "id": "hZ_QBiV_1av7"
      },
      "outputs": [],
      "source": [
        "import pandas as pd\n",
        "import numpy as np\n",
        "import time\n",
        "import sys\n",
        "import matplotlib.pyplot as plt\n",
        "from sklearn.model_selection import train_test_split\n",
        "from sklearn.preprocessing import StandardScaler\n",
        "from sklearn.decomposition import PCA\n",
        "from sklearn.tree import DecisionTreeClassifier\n",
        "from sklearn.metrics import accuracy_score\n",
        "from matplotlib.colors import ListedColormap\n",
        "from sklearn.linear_model import LogisticRegression\n",
        "from sklearn.discriminant_analysis import LinearDiscriminantAnalysis as LDA\n",
        "from scipy.spatial.distance import pdist, squareform\n",
        "from scipy import exp\n",
        "from scipy.linalg import eigh\n",
        "from sklearn.datasets import make_moons\n",
        "from sklearn.datasets import make_circles\n",
        "from sklearn.decomposition import KernelPCA\n",
        "from sklearn.metrics import precision_score, recall_score, f1_score\n",
        "from sklearn.metrics import roc_curve, auc\n",
        "from sklearn.preprocessing import LabelEncoder\n",
        "\n",
        "le = LabelEncoder()\n"
      ]
    },
    {
      "cell_type": "code",
      "source": [
        "import pandas as pd\n",
        "import time\n",
        "import os\n",
        "import struct\n",
        "from google.colab import files\n",
        "from sklearn.datasets import load_digits\n",
        "from sklearn.model_selection import train_test_split\n",
        "\n",
        "def load_mnist(path, kind='train'):\n",
        "    \"\"\"Load MNIST data from `path`\"\"\"\n",
        "    labels_path = os.path.join(path, '%s-labels-idx1-ubyte' % kind)\n",
        "    images_path = os.path.join(path, '%s-images-idx3-ubyte' % kind)\n",
        "\n",
        "    with open(labels_path, 'rb') as lbpath:\n",
        "        magic, n = struct.unpack('>II', lbpath.read(8))\n",
        "        labels = np.fromfile(lbpath, dtype=np.uint8)\n",
        "\n",
        "    with open(images_path, 'rb') as imgpath:\n",
        "        magic, num, rows, cols = struct.unpack(\">IIII\", imgpath.read(16))\n",
        "        images = np.fromfile(imgpath, dtype=np.uint8).reshape(len(labels), 784)\n",
        "\n",
        "    return images, labels\n",
        "\n",
        "#magic, n = struct.unpack('>II', lbpath.read(8))\n",
        "#labels = np.fromfile(lbpath, dtype=np.int8)\n",
        "\n",
        "#X_train, y_train = load_mnist(kind='train')\n",
        "#print('Rows: %d, columns: %d' % (X_train.shape[0], X_train.shape[1]))\n",
        "\n",
        "#X_test, y_test = load_mnist(kind='t10k')\n",
        "#print('Rows: %d, columns: %d' % (X_test.shape[0], X_test.shape[1]))\n",
        "\n",
        "mnist = load_digits()\n",
        "mnist_data = pd.DataFrame(mnist.data)\n",
        "mnist_labels = pd.DataFrame(mnist.target)\n",
        "mnist_data.head()\n",
        "\n",
        "\n",
        "#X_data, y_data = load_mnist('./content/sample_data', kind='train')\n",
        "#print('Rows: %d,  Columns: %d' % (X_data.shape[0], X_data.shape[1]))\n",
        "#X_test, y_test = load_mnist('./content/sample_data', kind='t10k')\n",
        "#print('Rows: %d,  Columns: %d' % (X_test.shape[0], X_test.shape[1]))\n",
        "\n",
        "#X_train, y_train = X_data[:50000,:], y_data[:50000]\n",
        "#X_valid, y_valid = X_data[50000:,:], y_data[50000:]\n",
        "\n",
        "#print('mnist_train_dataset:', X_train.shape, y_train.shape)\n",
        "#print('mnist_valid_dataset:', X_valid.shape, y_valid.shape)\n",
        "#print('mnist_test_dataset:', X_test.shape, y_test.shape)\n",
        "\n",
        "X_train, X_test, y_train, y_test = train_test_split(mnist_data, mnist_labels, test_size=0.2, shuffle=True, random_state=0)\n",
        "print(\"X_train\", X_train)\n",
        "print(\"y_train\", y_train)\n",
        "#print(y_test.shape)"
      ],
      "metadata": {
        "colab": {
          "base_uri": "https://localhost:8080/"
        },
        "id": "bTs1q_yk10cZ",
        "outputId": "6689aeb3-247d-4fcc-8f7d-b0ea5101f876"
      },
      "execution_count": 24,
      "outputs": [
        {
          "output_type": "stream",
          "name": "stdout",
          "text": [
            "X_train        0    1     2     3     4     5    6    7    8     9   ...    54   55  \\\n",
            "1109  0.0  0.0   0.0   9.0  15.0   2.0  0.0  0.0  0.0   0.0  ...  15.0  6.0   \n",
            "940   0.0  3.0  12.0  12.0  14.0   4.0  0.0  0.0  0.0   1.0  ...   8.0  0.0   \n",
            "192   0.0  1.0  10.0  15.0  16.0  13.0  3.0  0.0  0.0   5.0  ...   0.0  0.0   \n",
            "260   0.0  0.0   0.0  12.0   4.0   0.0  0.0  0.0  0.0   0.0  ...   0.0  0.0   \n",
            "1148  0.0  0.0   0.0   9.0  16.0   3.0  0.0  0.0  0.0   0.0  ...   0.0  0.0   \n",
            "...   ...  ...   ...   ...   ...   ...  ...  ...  ...   ...  ...   ...  ...   \n",
            "835   0.0  1.0   8.0  14.0  15.0   2.0  0.0  0.0  0.0   2.0  ...   1.0  0.0   \n",
            "1216  0.0  2.0   9.0  15.0  16.0  15.0  2.0  0.0  0.0  11.0  ...   7.0  0.0   \n",
            "1653  0.0  0.0   5.0  14.0  14.0   2.0  0.0  0.0  0.0   2.0  ...   0.0  0.0   \n",
            "559   0.0  0.0   4.0  10.0  15.0  16.0  4.0  0.0  0.0   0.0  ...   0.0  0.0   \n",
            "684   0.0  0.0   6.0  14.0  13.0   4.0  0.0  0.0  0.0   4.0  ...   1.0  0.0   \n",
            "\n",
            "       56   57    58    59    60    61    62   63  \n",
            "1109  0.0  0.0   0.0   7.0  15.0  16.0  16.0  6.0  \n",
            "940   0.0  2.0  13.0  16.0  16.0  16.0   2.0  0.0  \n",
            "192   0.0  0.0  15.0  13.0   7.0   0.0   0.0  0.0  \n",
            "260   0.0  0.0   0.0  11.0   9.0   0.0   0.0  0.0  \n",
            "1148  0.0  0.0   0.0  12.0  12.0   0.0   0.0  0.0  \n",
            "...   ...  ...   ...   ...   ...   ...   ...  ...  \n",
            "835   0.0  1.0   9.0  12.0  13.0   9.0   0.0  0.0  \n",
            "1216  0.0  0.0  12.0  16.0  15.0   9.0   1.0  0.0  \n",
            "1653  0.0  0.0   9.0  13.0   0.0   0.0   0.0  0.0  \n",
            "559   0.0  0.0   6.0  16.0   4.0   0.0   0.0  0.0  \n",
            "684   0.0  0.0   5.0  16.0  16.0  11.0   0.0  0.0  \n",
            "\n",
            "[1437 rows x 64 columns]\n",
            "y_train       0\n",
            "1109  6\n",
            "940   5\n",
            "192   3\n",
            "260   4\n",
            "1148  4\n",
            "...  ..\n",
            "835   3\n",
            "1216  3\n",
            "1653  7\n",
            "559   7\n",
            "684   8\n",
            "\n",
            "[1437 rows x 1 columns]\n"
          ]
        }
      ]
    },
    {
      "cell_type": "code",
      "source": [
        "from sklearn.preprocessing import StandardScaler\n",
        "\n",
        "start1_time = time.time() #import time\n",
        "# Standardizing the data\n",
        "sc = StandardScaler()\n",
        "X_train_std = sc.fit_transform(X_train)\n",
        "X_test_std = sc.transform(X_test)\n",
        "print(y_test.shape)"
      ],
      "metadata": {
        "colab": {
          "base_uri": "https://localhost:8080/"
        },
        "id": "jVqxINMY_PPi",
        "outputId": "7332481a-b04c-4b78-ebe0-36c4c2c6813e"
      },
      "execution_count": 25,
      "outputs": [
        {
          "output_type": "stream",
          "name": "stdout",
          "text": [
            "(360, 1)\n"
          ]
        }
      ]
    },
    {
      "cell_type": "code",
      "source": [
        "# STEP 1: Standardize the d−dimensional data\n",
        "sc = StandardScaler()\n",
        "X_train_std = sc.fit_transform(X_train)\n",
        "X_test_std = sc.transform(X_test)"
      ],
      "metadata": {
        "id": "1Xz0GnGT_pZT"
      },
      "execution_count": 26,
      "outputs": []
    },
    {
      "cell_type": "code",
      "source": [
        "from sklearn.decomposition import PCA\n",
        "#using scikit-learn library to conduct PCA\n",
        "pca = PCA()\n",
        "pca = PCA(n_components=2)\n",
        "\n",
        "X_train_pca = pca.fit_transform(X_train_std)\n",
        "X_test_pca = pca.transform(X_test_std)\n",
        "\n",
        "\n",
        "print('\\t\\t\\tX_train PCA:\\n', X_train_pca) \n",
        "\n",
        "print(y_test.shape)"
      ],
      "metadata": {
        "id": "W7R4NHU5_qt3",
        "colab": {
          "base_uri": "https://localhost:8080/"
        },
        "outputId": "191f55e3-8b63-44c3-b4b6-d8273755b3cb"
      },
      "execution_count": 27,
      "outputs": [
        {
          "output_type": "stream",
          "name": "stdout",
          "text": [
            "\t\t\tX_train PCA:\n",
            " [[ 1.1516 -4.9445]\n",
            " [-3.2585 -1.8527]\n",
            " [-1.6513  3.2225]\n",
            " ...\n",
            " [ 0.2028  2.0458]\n",
            " [ 1.4165  3.2189]\n",
            " [-1.7705 -0.3792]]\n",
            "(360, 1)\n"
          ]
        }
      ]
    },
    {
      "cell_type": "code",
      "source": [
        "from sklearn.tree import DecisionTreeClassifier\n",
        "from sklearn.metrics import accuracy_score\n",
        "\n",
        "tree_model = DecisionTreeClassifier(criterion='gini', max_depth=4, random_state=1)\n",
        "tree_model.fit(X_train_pca, y_train)\n",
        "\n",
        "y_pred = tree_model.predict(X_test_pca)\n",
        "acc = accuracy_score(y_pred, y_test)\n",
        "print(\"DT+PCA acc=\", acc)\n",
        "\n",
        "print(y_test.shape)"
      ],
      "metadata": {
        "colab": {
          "base_uri": "https://localhost:8080/"
        },
        "id": "lFdqFrGD_sJN",
        "outputId": "e91831fb-7270-4573-e65b-ba42cbdbb2f2"
      },
      "execution_count": 28,
      "outputs": [
        {
          "output_type": "stream",
          "name": "stdout",
          "text": [
            "DT+PCA acc= 0.4111111111111111\n",
            "(360, 1)\n"
          ]
        }
      ]
    },
    {
      "cell_type": "code",
      "source": [
        "# precision, recall, and f1 score testing\n",
        "#print(\"y_test\", y_test, \"y_pred\", y_pred)\n",
        "#print('Precision: %.3f' % precision_score(y_true=y_test, y_pred=y_pred,\n",
        "#                                          average=None))\n",
        "#print('Recall: %.3f' % recall_score(y_true=y_test, y_pred=y_pred))\n",
        "#print('F1: %.3f' % f1_score(y_true=y_test, y_pred=y_pred))\n",
        "\n",
        "#print(\"--------- %s seconds ---------\" % (time.time() - start1_time))\n",
        "#print(\"\\n\")"
      ],
      "metadata": {
        "id": "f4o6dlrp_uVp"
      },
      "execution_count": 29,
      "outputs": []
    },
    {
      "cell_type": "code",
      "source": [
        "from sklearn.metrics import precision_score, recall_score, f1_score\n",
        "\n",
        "print( precision_score( y_test, y_pred, average='weighted') ) # there was an error in syntax here \n",
        "print( recall_score( y_test, y_pred, average='weighted') ) # there was an error in syntax here \n",
        "print( f1_score( y_test, y_pred, average='weighted') ) # there was an error in syntax here \n",
        "\n",
        "print(\"--------- %s seconds ---------\" % (time.time() - start1_time))\n",
        "\n",
        "print(y_pred.shape )\n",
        "print(y_test.shape )"
      ],
      "metadata": {
        "id": "_RBVtAsB_xeV",
        "colab": {
          "base_uri": "https://localhost:8080/"
        },
        "outputId": "43e07474-dd18-4c60-9533-794f4274453c"
      },
      "execution_count": 30,
      "outputs": [
        {
          "output_type": "stream",
          "name": "stdout",
          "text": [
            "0.4846938746728368\n",
            "0.4111111111111111\n",
            "0.3729287539274601\n",
            "--------- 0.1429157257080078 seconds ---------\n",
            "(360,)\n",
            "(360, 1)\n"
          ]
        },
        {
          "output_type": "stream",
          "name": "stderr",
          "text": [
            "/usr/local/lib/python3.7/dist-packages/sklearn/metrics/_classification.py:1318: UndefinedMetricWarning: Precision is ill-defined and being set to 0.0 in labels with no predicted samples. Use `zero_division` parameter to control this behavior.\n",
            "  _warn_prf(average, modifier, msg_start, len(result))\n"
          ]
        }
      ]
    },
    {
      "cell_type": "code",
      "source": [
        "import numpy as np\n",
        "from sklearn.preprocessing import StandardScaler\n",
        "\n",
        "# ## using the Linear Discriminant Analysis method offered by scikit-learn library\n",
        "start2_time = time.time() # import time\n",
        "\n",
        "np.set_printoptions(precision=4)\n",
        "\n",
        "sc = StandardScaler()\n",
        "X_train_std = sc.fit_transform(X_train)\n",
        "\n",
        "mean_vecs = []\n",
        "#y_train = y_train.to_numpy()\n",
        "for label in range(0, 11):\n",
        "  #print(len(X_train_std))\n",
        "  #print([y_train == label])\n",
        "  mean_vecs.append(np.mean(X_train_std[y_train == label], axis=0))\n",
        "  print('MV %s: %s\\n' % (label, mean_vecs[label - 1]))"
      ],
      "metadata": {
        "id": "4Bipn0dW_1a8",
        "colab": {
          "base_uri": "https://localhost:8080/"
        },
        "outputId": "2bde9b61-819c-41ec-eed9-15d61483ef9c"
      },
      "execution_count": 38,
      "outputs": [
        {
          "output_type": "stream",
          "name": "stdout",
          "text": [
            "MV 0: [-0.0198 -0.0359]\n",
            "\n",
            "MV 1: [-0.0198 -0.0359]\n",
            "\n",
            "MV 2: [0.0198 0.0359]\n",
            "\n",
            "MV 3: [nan nan]\n",
            "\n",
            "MV 4: [nan nan]\n",
            "\n",
            "MV 5: [nan nan]\n",
            "\n",
            "MV 6: [nan nan]\n",
            "\n",
            "MV 7: [nan nan]\n",
            "\n",
            "MV 8: [nan nan]\n",
            "\n",
            "MV 9: [nan nan]\n",
            "\n",
            "MV 10: [nan nan]\n",
            "\n"
          ]
        },
        {
          "output_type": "stream",
          "name": "stderr",
          "text": [
            "/usr/local/lib/python3.7/dist-packages/numpy/core/fromnumeric.py:3441: RuntimeWarning: Mean of empty slice.\n",
            "  out=out, **kwargs)\n",
            "/usr/local/lib/python3.7/dist-packages/numpy/core/_methods.py:182: RuntimeWarning: invalid value encountered in true_divide\n",
            "  ret, rcount, out=ret, casting='unsafe', subok=False)\n"
          ]
        }
      ]
    },
    {
      "cell_type": "code",
      "source": [
        "from sklearn.discriminant_analysis import LinearDiscriminantAnalysis as LDA\n",
        "\n",
        "# ## LDA via scikit-learn\n",
        "lda = LDA(n_components=1)\n",
        "X_train_lda = lda.fit_transform(X_train_std, y_train)\n",
        "\n",
        "tree_model = DecisionTreeClassifier(criterion='gini', max_depth=4, random_state=1)\n",
        "tree_model.fit(X_train_lda, y_train)\n",
        "\n",
        "X_test_lda = lda.transform(X_test_std)\n",
        "\n",
        "y_pred = tree_model.predict(X_test_lda)\n",
        "acc = accuracy_score(y_pred, y_test)\n",
        "print(\"DT+LDA acc=\", acc)"
      ],
      "metadata": {
        "id": "_QAv0xl2AOrN",
        "colab": {
          "base_uri": "https://localhost:8080/"
        },
        "outputId": "2a1575f8-e50a-46c9-a4d2-885fe8aaac6f"
      },
      "execution_count": 33,
      "outputs": [
        {
          "output_type": "stream",
          "name": "stdout",
          "text": [
            "DT+LDA acc= 0.38055555555555554\n"
          ]
        },
        {
          "output_type": "stream",
          "name": "stderr",
          "text": [
            "/usr/local/lib/python3.7/dist-packages/sklearn/utils/validation.py:993: DataConversionWarning: A column-vector y was passed when a 1d array was expected. Please change the shape of y to (n_samples, ), for example using ravel().\n",
            "  y = column_or_1d(y, warn=True)\n"
          ]
        }
      ]
    },
    {
      "cell_type": "code",
      "source": [
        "from sklearn.metrics import precision_score, recall_score, f1_score\n",
        "\n",
        "# precision, recall, and f1 score testing\n",
        "print( precision_score( y_test, y_pred, average='weighted') ) # there was an error in syntax here \n",
        "print( recall_score( y_test, y_pred, average='weighted') ) # there was an error in syntax here \n",
        "print( f1_score( y_test, y_pred, average='weighted') ) # there was an error in syntax here \n",
        "\n",
        "print(\"--------- %s seconds ---------\" % (time.time() - start2_time))"
      ],
      "metadata": {
        "id": "rjbwg-4nAQOh",
        "colab": {
          "base_uri": "https://localhost:8080/"
        },
        "outputId": "2ee0be22-d079-4518-9888-d6b1d9c26a58"
      },
      "execution_count": 34,
      "outputs": [
        {
          "output_type": "stream",
          "name": "stdout",
          "text": [
            "0.34802911865125913\n",
            "0.38055555555555554\n",
            "0.33577655261361034\n",
            "--------- 4.253606557846069 seconds ---------\n"
          ]
        },
        {
          "output_type": "stream",
          "name": "stderr",
          "text": [
            "/usr/local/lib/python3.7/dist-packages/sklearn/metrics/_classification.py:1318: UndefinedMetricWarning: Precision is ill-defined and being set to 0.0 in labels with no predicted samples. Use `zero_division` parameter to control this behavior.\n",
            "  _warn_prf(average, modifier, msg_start, len(result))\n"
          ]
        }
      ]
    },
    {
      "cell_type": "code",
      "source": [
        "from sklearn.decomposition import KernelPCA\n",
        "import time\n",
        "from sklearn.datasets import make_moons\n",
        "from sklearn.datasets import make_circles\n",
        "from sklearn.model_selection import train_test_split\n",
        "\n",
        "\n",
        "# ## Kernel principal component analysis in scikit-learn\n",
        "start3_time = time.time() # import time\n",
        "\n",
        "X, y = make_moons(n_samples=100, random_state=123)\n",
        "scikit_kpca = KernelPCA(n_components=2, kernel='rbf', gamma=15)\n",
        "X_skernkpca = scikit_kpca.fit_transform(X)\n",
        "\n",
        "X, y = make_circles(n_samples=1000, random_state=123, noise=0.1, factor=0.2)\n",
        "X_train, X_test, y_train, y_test = train_test_split(X,y,test_size=0.3,stratify=y,random_state=0)\n",
        "kpca = KernelPCA(n_components=2, kernel='rbf', gamma=15)\n",
        "X_train_kpca = kpca.fit_transform(X_train, y_train)\n",
        "X_test_kpca = kpca.transform(X_test)"
      ],
      "metadata": {
        "id": "GqxBXPx5Accp"
      },
      "execution_count": 35,
      "outputs": []
    },
    {
      "cell_type": "code",
      "source": [
        "from sklearn.tree import DecisionTreeClassifier\n",
        "from sklearn.metrics import accuracy_score\n",
        "\n",
        "transformer = KernelPCA(n_components=7, kernel='linear')\n",
        "X_transformed = transformer.fit_transform(X)\n",
        "X_transformed.shape\n",
        "print(X_transformed.shape)\n",
        "\n",
        "\n",
        "tree_model = DecisionTreeClassifier(criterion='gini', max_depth=4, random_state=1)\n",
        "tree_model.fit(X_train_kpca, y_train)\n",
        "y_pred = tree_model.predict(X_test_kpca)\n",
        "\n",
        "acc = accuracy_score(y_pred, y_test)\n",
        "print(\"DT+kpca acc= \", acc)"
      ],
      "metadata": {
        "id": "Da_FzYjoAdtT",
        "colab": {
          "base_uri": "https://localhost:8080/"
        },
        "outputId": "b1311258-a6da-4d10-91ce-6ec7ed9827ec"
      },
      "execution_count": 36,
      "outputs": [
        {
          "output_type": "stream",
          "name": "stdout",
          "text": [
            "(1000, 7)\n",
            "DT+kpca acc=  1.0\n"
          ]
        }
      ]
    },
    {
      "cell_type": "code",
      "source": [
        "from sklearn.metrics import precision_score, recall_score, f1_score\n",
        "\n",
        "# precision, recall, and f1 score testing\n",
        "print( precision_score( y_test, y_pred, average='weighted') )\n",
        "print( recall_score( y_test, y_pred, average='weighted') )\n",
        "print( f1_score( y_test, y_pred, average='weighted') )\n",
        "\n",
        "print(\"--------- %s seconds ---------\" % (time.time() - start3_time))"
      ],
      "metadata": {
        "id": "9isgxwb5ApGQ",
        "colab": {
          "base_uri": "https://localhost:8080/"
        },
        "outputId": "34ad9e51-7c70-4342-f623-1b44b34b42a1"
      },
      "execution_count": 37,
      "outputs": [
        {
          "output_type": "stream",
          "name": "stdout",
          "text": [
            "1.0\n",
            "1.0\n",
            "1.0\n",
            "--------- 3.6151797771453857 seconds ---------\n"
          ]
        }
      ]
    }
  ]
}