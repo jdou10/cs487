{
  "nbformat": 4,
  "nbformat_minor": 0,
  "metadata": {
    "colab": {
      "name": "hw4_iris",
      "provenance": [],
      "collapsed_sections": []
    },
    "kernelspec": {
      "name": "python3",
      "display_name": "Python 3"
    },
    "language_info": {
      "name": "python"
    }
  },
  "cells": [
    {
      "cell_type": "code",
      "execution_count": 1,
      "metadata": {
        "id": "hZ_QBiV_1av7"
      },
      "outputs": [],
      "source": [
        "import pandas as pd\n",
        "import numpy as np\n",
        "import time\n",
        "import sys\n",
        "import matplotlib.pyplot as plt\n",
        "from sklearn.model_selection import train_test_split\n",
        "from sklearn.preprocessing import StandardScaler\n",
        "from sklearn.decomposition import PCA\n",
        "from sklearn.tree import DecisionTreeClassifier\n",
        "from sklearn.metrics import accuracy_score\n",
        "from matplotlib.colors import ListedColormap\n",
        "from sklearn.linear_model import LogisticRegression\n",
        "from sklearn.discriminant_analysis import LinearDiscriminantAnalysis as LDA\n",
        "from scipy.spatial.distance import pdist, squareform\n",
        "from scipy import exp\n",
        "from scipy.linalg import eigh\n",
        "from sklearn.datasets import make_moons\n",
        "from sklearn.datasets import make_circles\n",
        "from sklearn.decomposition import KernelPCA\n",
        "from sklearn.metrics import precision_score, recall_score, f1_score\n",
        "from sklearn.metrics import roc_curve, auc\n",
        "from sklearn.preprocessing import LabelEncoder\n",
        "\n",
        "le = LabelEncoder()\n"
      ]
    },
    {
      "cell_type": "code",
      "source": [
        "import pandas as pd\n",
        "from sklearn.model_selection import train_test_split\n",
        "\n",
        "start1_time = time.time() #import time\n",
        "\n",
        "# read iris dataset\n",
        "df = pd.read_csv(\"iris.data\", header=None) \n",
        "\n",
        "print(df.head() ) # prints first 5 rows\n",
        "print(\"------------------------------\") \n",
        "print(df.tail() ) # prints last 5 rows\n",
        "\n",
        "# Preprocess the df\n",
        "print(\"df shape\", df.shape)\n",
        "print(\"\\n\")\n",
        "\n",
        "# drop last column \n",
        "X = df.iloc[:, :-1] # feature\n",
        "y = df.iloc[:, -1] # target\n",
        "\n",
        "print(\"X \\n\", X) \n",
        "print(\"y \\n \", y) \n",
        "\n",
        "\n",
        "# encode the target/y column\n",
        "\n",
        "print('\\t\\tAfter label encoding') \n",
        "print( np.unique(le.fit_transform(y) ) )\n",
        "print('\\n\\n\\n')\n",
        "\n",
        "#y = np.where(y == 'Iris-setosa', -1, 1)\n",
        "print(\"y\", y)\n",
        "print(\"\\n\")\n",
        "\n",
        "X_train, X_test, y_train, y_test = train_test_split(X, y, test_size=0.2, shuffle= True, random_state=0)\n",
        "print(\"y_train\", y_train)\n",
        "print(y_test.shape)"
      ],
      "metadata": {
        "colab": {
          "base_uri": "https://localhost:8080/"
        },
        "id": "bTs1q_yk10cZ",
        "outputId": "a3c43f27-5902-4f87-b00b-10175f901099"
      },
      "execution_count": 3,
      "outputs": [
        {
          "output_type": "stream",
          "name": "stdout",
          "text": [
            "     0    1    2    3            4\n",
            "0  5.1  3.5  1.4  0.2  Iris-setosa\n",
            "1  4.9  3.0  1.4  0.2  Iris-setosa\n",
            "2  4.7  3.2  1.3  0.2  Iris-setosa\n",
            "3  4.6  3.1  1.5  0.2  Iris-setosa\n",
            "4  5.0  3.6  1.4  0.2  Iris-setosa\n",
            "------------------------------\n",
            "       0    1    2    3               4\n",
            "145  6.7  3.0  5.2  2.3  Iris-virginica\n",
            "146  6.3  2.5  5.0  1.9  Iris-virginica\n",
            "147  6.5  3.0  5.2  2.0  Iris-virginica\n",
            "148  6.2  3.4  5.4  2.3  Iris-virginica\n",
            "149  5.9  3.0  5.1  1.8  Iris-virginica\n",
            "df shape (150, 5)\n",
            "\n",
            "\n",
            "X \n",
            "        0    1    2    3\n",
            "0    5.1  3.5  1.4  0.2\n",
            "1    4.9  3.0  1.4  0.2\n",
            "2    4.7  3.2  1.3  0.2\n",
            "3    4.6  3.1  1.5  0.2\n",
            "4    5.0  3.6  1.4  0.2\n",
            "..   ...  ...  ...  ...\n",
            "145  6.7  3.0  5.2  2.3\n",
            "146  6.3  2.5  5.0  1.9\n",
            "147  6.5  3.0  5.2  2.0\n",
            "148  6.2  3.4  5.4  2.3\n",
            "149  5.9  3.0  5.1  1.8\n",
            "\n",
            "[150 rows x 4 columns]\n",
            "y \n",
            "  0         Iris-setosa\n",
            "1         Iris-setosa\n",
            "2         Iris-setosa\n",
            "3         Iris-setosa\n",
            "4         Iris-setosa\n",
            "            ...      \n",
            "145    Iris-virginica\n",
            "146    Iris-virginica\n",
            "147    Iris-virginica\n",
            "148    Iris-virginica\n",
            "149    Iris-virginica\n",
            "Name: 4, Length: 150, dtype: object\n",
            "\t\tAfter label encoding\n",
            "[0 1 2]\n",
            "\n",
            "\n",
            "\n",
            "\n",
            "y 0         Iris-setosa\n",
            "1         Iris-setosa\n",
            "2         Iris-setosa\n",
            "3         Iris-setosa\n",
            "4         Iris-setosa\n",
            "            ...      \n",
            "145    Iris-virginica\n",
            "146    Iris-virginica\n",
            "147    Iris-virginica\n",
            "148    Iris-virginica\n",
            "149    Iris-virginica\n",
            "Name: 4, Length: 150, dtype: object\n",
            "\n",
            "\n",
            "y_train 137     Iris-virginica\n",
            "84     Iris-versicolor\n",
            "27         Iris-setosa\n",
            "127     Iris-virginica\n",
            "132     Iris-virginica\n",
            "            ...       \n",
            "9          Iris-setosa\n",
            "103     Iris-virginica\n",
            "67     Iris-versicolor\n",
            "117     Iris-virginica\n",
            "47         Iris-setosa\n",
            "Name: 4, Length: 120, dtype: object\n",
            "(30,)\n"
          ]
        }
      ]
    },
    {
      "cell_type": "code",
      "source": [
        "from sklearn.preprocessing import StandardScaler\n",
        "\n",
        "# Standardizing the data\n",
        "sc = StandardScaler()\n",
        "X_train_std = sc.fit_transform(X_train)\n",
        "X_test_std = sc.transform(X_test)\n",
        "print(y_test.shape)"
      ],
      "metadata": {
        "colab": {
          "base_uri": "https://localhost:8080/"
        },
        "id": "jVqxINMY_PPi",
        "outputId": "3836e320-2808-43bb-861c-16538296c1a6"
      },
      "execution_count": 4,
      "outputs": [
        {
          "output_type": "stream",
          "name": "stdout",
          "text": [
            "(30,)\n"
          ]
        }
      ]
    },
    {
      "cell_type": "code",
      "source": [
        ""
      ],
      "metadata": {
        "id": "nd2ef-2d2xCY"
      },
      "execution_count": null,
      "outputs": []
    },
    {
      "cell_type": "code",
      "source": [
        "# STEP 1: Standardize the d−dimensional data\n",
        "sc = StandardScaler()\n",
        "X_train_std = sc.fit_transform(X_train)\n",
        "X_test_std = sc.transform(X_test)"
      ],
      "metadata": {
        "id": "1Xz0GnGT_pZT"
      },
      "execution_count": 5,
      "outputs": []
    },
    {
      "cell_type": "code",
      "source": [
        "#using scikit-learn library to conduct PCA\n",
        "pca = PCA()\n",
        "#X_train_pca = pca.fit_transform(X_train_std)\n",
        "\n",
        "pca = PCA(n_components=2)\n",
        "X_train_pca = pca.fit_transform(X_train_std)\n",
        "X_test_pca = pca.transform(X_test_std)\n",
        "\n",
        "\n",
        "print('\\t\\t\\tX_train PCA:\\n', X_train_pca) \n",
        "\n",
        "print(y_test.shape)"
      ],
      "metadata": {
        "id": "W7R4NHU5_qt3",
        "colab": {
          "base_uri": "https://localhost:8080/"
        },
        "outputId": "63a6de10-4f22-4041-d7a0-12431a4f56e4"
      },
      "execution_count": 6,
      "outputs": [
        {
          "output_type": "stream",
          "name": "stdout",
          "text": [
            "\t\t\tX_train PCA:\n",
            " [[ 1.27228206e+00  3.57878727e-01]\n",
            " [ 1.52231770e-01 -2.99835283e-01]\n",
            " [-2.18764183e+00  6.17154256e-01]\n",
            " [ 9.41913396e-01  1.21810481e-02]\n",
            " [ 1.76227837e+00 -2.71066387e-01]\n",
            " [-8.16806401e-02 -1.04319475e+00]\n",
            " [-1.89794863e+00  1.48464927e+00]\n",
            " [ 9.59395493e-01 -6.91087802e-01]\n",
            " [ 3.65661204e-01 -9.13013087e-02]\n",
            " [ 2.31845912e-01 -1.01891237e+00]\n",
            " [ 1.79730127e+00  3.25092688e-01]\n",
            " [-2.40350676e+00 -2.44874760e-01]\n",
            " [ 1.82199968e+00  5.93295049e-01]\n",
            " [-1.98427118e+00  5.55515137e-01]\n",
            " [-2.17073306e+00  1.13527621e+00]\n",
            " [-2.55598076e-01 -2.67039928e+00]\n",
            " [ 1.38862320e+00  1.82768524e-01]\n",
            " [ 1.93409268e+00  9.57133382e-01]\n",
            " [ 1.12243099e+00 -1.78242941e+00]\n",
            " [ 1.88169499e+00 -8.17365689e-01]\n",
            " [ 5.43123767e-02 -1.32586239e+00]\n",
            " [ 2.70365641e+00  7.16489102e-01]\n",
            " [ 6.91516012e-01  7.35561284e-01]\n",
            " [ 1.30048660e-02 -1.58537102e+00]\n",
            " [ 1.22853905e+00 -5.55124947e-01]\n",
            " [ 1.01881714e+00 -3.53542050e-01]\n",
            " [ 2.57616370e-01 -1.58420817e+00]\n",
            " [ 1.44310720e+00 -9.83382473e-01]\n",
            " [ 1.03458720e+00  8.01371405e-01]\n",
            " [ 1.43772035e+00  1.92357562e-01]\n",
            " [ 3.84673096e-01  8.25825403e-01]\n",
            " [-2.18860624e+00 -4.18642000e-01]\n",
            " [ 1.05608476e+00 -7.58640575e-01]\n",
            " [ 1.92641524e-01 -8.79416243e-01]\n",
            " [-1.12363985e-01 -4.47930988e-01]\n",
            " [ 1.72424265e-01 -1.35645812e+00]\n",
            " [ 5.48040969e-01 -1.10259170e-02]\n",
            " [ 1.88178641e+00  9.13005688e-01]\n",
            " [-2.23313082e+00  1.09330082e+00]\n",
            " [-2.68474557e+00 -8.53308800e-01]\n",
            " [ 1.49617758e+00 -5.05892942e-01]\n",
            " [ 1.93808918e-02 -1.91650085e-01]\n",
            " [-1.94319667e+00  4.84914749e-01]\n",
            " [-2.21348689e+00  2.79173351e+00]\n",
            " [ 1.16566733e+00  5.48671737e-01]\n",
            " [-2.34625489e+00 -5.03040429e-01]\n",
            " [ 8.82824123e-01 -7.08744182e-02]\n",
            " [-5.53354567e-01 -1.53976821e+00]\n",
            " [-2.46710989e+00  1.53234687e-01]\n",
            " [ 1.08296089e+00 -1.70071690e+00]\n",
            " [ 2.21566386e+00  1.82005771e+00]\n",
            " [ 1.47152532e-01 -4.03269675e-01]\n",
            " [-2.27419738e+00 -6.42088899e-01]\n",
            " [ 2.11590706e+00  4.52809468e-01]\n",
            " [ 1.96517506e+00  8.13066565e-01]\n",
            " [ 1.78249563e+00  2.05975489e-01]\n",
            " [ 1.68845011e+00 -2.76532388e-01]\n",
            " [-2.37901660e+00  1.22688329e+00]\n",
            " [-2.35043637e+00  2.32614770e-01]\n",
            " [ 1.29698047e+00  6.26081088e-01]\n",
            " [ 1.63877963e+00  9.35269379e-01]\n",
            " [-1.96898362e+00 -2.27712985e+00]\n",
            " [ 1.32194459e+00  9.52067070e-01]\n",
            " [-2.13797135e+00 -5.94647511e-01]\n",
            " [ 1.14254888e+00 -1.22976880e+00]\n",
            " [ 1.77290253e+00  5.83706011e-01]\n",
            " [-2.59070005e+00 -3.70800923e-01]\n",
            " [-2.39923386e+00  7.49841417e-01]\n",
            " [ 1.77631039e+00  4.67007198e-01]\n",
            " [-2.20906445e+00  5.80197215e-01]\n",
            " [-2.48281329e+00 -8.04972103e-01]\n",
            " [-2.06525704e+00  1.58127470e+00]\n",
            " [ 2.80311020e-01 -1.79062930e+00]\n",
            " [ 1.96848355e+00  7.71986487e-01]\n",
            " [ 2.65786776e+00  6.65819985e-01]\n",
            " [-2.28289272e+00  5.74731214e-01]\n",
            " [-2.23288987e+00 -3.82580267e-01]\n",
            " [-2.16655158e+00  3.99621011e-01]\n",
            " [ 2.99655286e-01 -6.19012302e-01]\n",
            " [ 7.94323529e-01  1.97955712e-01]\n",
            " [-2.24916660e+00 -1.19396252e-01]\n",
            " [-1.85496180e+00  1.58300998e-01]\n",
            " [ 6.16789994e-01 -1.08994308e-01]\n",
            " [-1.86124640e+00  4.94951442e-01]\n",
            " [ 3.18225493e+00 -1.48272024e-01]\n",
            " [-5.99475599e-01 -1.84492762e+00]\n",
            " [ 2.27397951e+00  2.52206956e+00]\n",
            " [ 8.02777914e-01  4.57016689e-01]\n",
            " [-2.58513035e+00  1.91420180e+00]\n",
            " [ 8.46662508e-01 -3.02419937e-02]\n",
            " [-2.18153152e+00  1.95309157e+00]\n",
            " [ 2.78717714e+00  2.68605846e-01]\n",
            " [-2.33804146e+00  1.23190164e+00]\n",
            " [-2.30494738e+00 -2.43531797e-01]\n",
            " [ 2.32903683e+00  1.34527758e-01]\n",
            " [-2.23740372e+00  9.85846464e-02]\n",
            " [ 1.52387687e+00  1.00040377e+00]\n",
            " [ 1.68242783e-01 -6.20802919e-01]\n",
            " [ 1.45049409e-01 -8.02274431e-01]\n",
            " [-1.42474004e-01 -1.07405803e+00]\n",
            " [ 1.52177374e+00  6.01399011e-01]\n",
            " [ 1.78400066e+00  2.92706339e-01]\n",
            " [ 1.11494102e+00 -1.00569413e+00]\n",
            " [ 1.27532483e+00  2.59015027e-01]\n",
            " [-2.00986734e+00 -5.51776815e-01]\n",
            " [-9.36765222e-02 -1.59128467e+00]\n",
            " [ 1.93529805e+00  5.17048547e-01]\n",
            " [ 1.05608476e+00 -7.58640575e-01]\n",
            " [-2.19609621e+00  3.58093278e-01]\n",
            " [ 8.40144896e-01 -2.37005702e-02]\n",
            " [-2.04173388e-03 -2.28607127e-01]\n",
            " [ 6.76377991e-01  3.61953799e-01]\n",
            " [ 9.10905621e-01 -1.45303558e+00]\n",
            " [-2.06615479e+00  7.42185110e-01]\n",
            " [-2.21026982e+00  1.02028205e+00]\n",
            " [-2.23288987e+00 -3.82580267e-01]\n",
            " [ 1.35062418e+00 -1.17820187e-01]\n",
            " [ 6.30991357e-02 -8.12311123e-01]\n",
            " [ 2.39539989e+00  2.45039375e+00]\n",
            " [-2.43305139e+00 -2.86402494e-01]]\n",
            "(30,)\n"
          ]
        }
      ]
    },
    {
      "cell_type": "code",
      "source": [
        "tree_model = DecisionTreeClassifier(criterion='gini', max_depth=4, random_state=1)\n",
        "tree_model.fit(X_train_pca, y_train)\n",
        "\n",
        "y_pred = tree_model.predict(X_test_pca)\n",
        "acc = accuracy_score(y_pred, y_test)\n",
        "print(\"DT+PCA acc=\", acc)\n",
        "\n",
        "print(y_test.shape)"
      ],
      "metadata": {
        "colab": {
          "base_uri": "https://localhost:8080/"
        },
        "id": "lFdqFrGD_sJN",
        "outputId": "0e52debe-70c6-488d-ff96-3e4a52bef2db"
      },
      "execution_count": 7,
      "outputs": [
        {
          "output_type": "stream",
          "name": "stdout",
          "text": [
            "DT+PCA acc= 0.9333333333333333\n",
            "(30,)\n"
          ]
        }
      ]
    },
    {
      "cell_type": "code",
      "source": [
        "# precision, recall, and f1 score testing\n",
        "#print(\"y_test\", y_test, \"y_pred\", y_pred)\n",
        "#print('Precision: %.3f' % precision_score(y_true=y_test, y_pred=y_pred,\n",
        "#                                          average=None))\n",
        "#print('Recall: %.3f' % recall_score(y_true=y_test, y_pred=y_pred))\n",
        "#print('F1: %.3f' % f1_score(y_true=y_test, y_pred=y_pred))\n",
        "\n",
        "#print(\"--------- %s seconds ---------\" % (time.time() - start1_time))\n",
        "#print(\"\\n\")"
      ],
      "metadata": {
        "id": "f4o6dlrp_uVp"
      },
      "execution_count": 8,
      "outputs": []
    },
    {
      "cell_type": "code",
      "source": [
        "print( precision_score( y_test, y_pred, average='weighted') ) # there was an error in syntax here \n",
        "print( recall_score( y_test, y_pred, average='weighted') ) # there was an error in syntax here \n",
        "print( f1_score( y_test, y_pred, average='weighted') ) # there was an error in syntax here \n",
        "\n",
        "print(\"--------- %s seconds ---------\" % (time.time() - start1_time))\n",
        "\n",
        "print(y_pred.shape )\n",
        "print(y_test.shape )"
      ],
      "metadata": {
        "id": "_RBVtAsB_xeV",
        "colab": {
          "base_uri": "https://localhost:8080/"
        },
        "outputId": "83d3c2b5-2974-442a-b372-5e6d02ab22ed"
      },
      "execution_count": 9,
      "outputs": [
        {
          "output_type": "stream",
          "name": "stdout",
          "text": [
            "0.95\n",
            "0.9333333333333333\n",
            "0.9353174603174602\n",
            "--------- 12.793120861053467 seconds ---------\n",
            "(30,)\n",
            "(30,)\n"
          ]
        }
      ]
    },
    {
      "cell_type": "code",
      "source": [
        "# ## using the Linear Discriminant Analysis method offered by scikit-learn library\n",
        "start2_time = time.time() # import time\n",
        "\n",
        "np.set_printoptions(precision=4)\n",
        "\n",
        "mean_vecs = []\n",
        "for label in range(1, 4):\n",
        "    mean_vecs.append(np.mean(X_train_std[y_train == label], axis=0))\n",
        "    print('MV %s: %s\\n' % (label, mean_vecs[label - 1]))"
      ],
      "metadata": {
        "id": "4Bipn0dW_1a8",
        "colab": {
          "base_uri": "https://localhost:8080/"
        },
        "outputId": "7e6c3e97-2a48-4452-910a-bc8f0e9a2193"
      },
      "execution_count": 10,
      "outputs": [
        {
          "output_type": "stream",
          "name": "stdout",
          "text": [
            "MV 1: [nan nan nan nan]\n",
            "\n",
            "MV 2: [nan nan nan nan]\n",
            "\n",
            "MV 3: [nan nan nan nan]\n",
            "\n"
          ]
        },
        {
          "output_type": "stream",
          "name": "stderr",
          "text": [
            "/usr/local/lib/python3.7/dist-packages/numpy/core/fromnumeric.py:3441: RuntimeWarning: Mean of empty slice.\n",
            "  out=out, **kwargs)\n",
            "/usr/local/lib/python3.7/dist-packages/numpy/core/_methods.py:182: RuntimeWarning: invalid value encountered in true_divide\n",
            "  ret, rcount, out=ret, casting='unsafe', subok=False)\n"
          ]
        }
      ]
    },
    {
      "cell_type": "code",
      "source": [
        "# ## LDA via scikit-learn\n",
        "lda = LDA(n_components=2)\n",
        "X_train_lda = lda.fit_transform(X_train_std, y_train)\n",
        "\n",
        "tree_model = DecisionTreeClassifier(criterion='gini', max_depth=4, random_state=1)\n",
        "tree_model.fit(X_train_lda, y_train)\n",
        "\n",
        "X_test_lda = lda.transform(X_test_std)\n",
        "\n",
        "y_pred = tree_model.predict(X_test_lda)\n",
        "acc = accuracy_score(y_pred, y_test)\n",
        "print(\"DT+LDA acc=\", acc)"
      ],
      "metadata": {
        "id": "_QAv0xl2AOrN",
        "colab": {
          "base_uri": "https://localhost:8080/"
        },
        "outputId": "747ce194-7098-4285-c156-ebada518b68a"
      },
      "execution_count": 11,
      "outputs": [
        {
          "output_type": "stream",
          "name": "stdout",
          "text": [
            "DT+LDA acc= 1.0\n"
          ]
        }
      ]
    },
    {
      "cell_type": "code",
      "source": [
        "# precision, recall, and f1 score testing\n",
        "print( precision_score( y_test, y_pred, average='weighted') ) # there was an error in syntax here \n",
        "print( recall_score( y_test, y_pred, average='weighted') ) # there was an error in syntax here \n",
        "print( f1_score( y_test, y_pred, average='weighted') ) # there was an error in syntax here \n",
        "\n",
        "print(\"--------- %s seconds ---------\" % (time.time() - start2_time))"
      ],
      "metadata": {
        "id": "rjbwg-4nAQOh",
        "colab": {
          "base_uri": "https://localhost:8080/"
        },
        "outputId": "855acf45-f7ad-4bf6-f31e-eb95f85885e4"
      },
      "execution_count": 12,
      "outputs": [
        {
          "output_type": "stream",
          "name": "stdout",
          "text": [
            "1.0\n",
            "1.0\n",
            "1.0\n",
            "--------- 3.3103818893432617 seconds ---------\n"
          ]
        }
      ]
    },
    {
      "cell_type": "code",
      "source": [
        "from sklearn.decomposition import KernelPCA\n",
        "import time\n",
        "# ## Kernel principal component analysis in scikit-learn\n",
        "start3_time = time.time() # import time\n",
        "\n",
        "#X, y = make_moons(n_samples=100, random_state=123)\n",
        "scikit_kpca = KernelPCA(n_components=2, kernel='rbf', gamma=15)\n",
        "X_skernkpca = scikit_kpca.fit_transform(X)\n",
        "\n",
        "X, y = make_circles(n_samples=1000, random_state=123, noise=0.1, factor=0.2)\n",
        "X_train, X_test, y_train, y_test = train_test_split(X,y,test_size=0.3,stratify=y,random_state=0)\n",
        "kpca = KernelPCA(n_components=2, kernel='rbf', gamma=15)\n",
        "X_train_kpca = kpca.fit_transform(X_train, y_train)\n",
        "X_test_kpca = kpca.transform(X_test)"
      ],
      "metadata": {
        "id": "GqxBXPx5Accp"
      },
      "execution_count": 13,
      "outputs": []
    },
    {
      "cell_type": "code",
      "source": [
        "transformer = KernelPCA(n_components=7, kernel='linear')\n",
        "X_transformed = transformer.fit_transform(X)\n",
        "X_transformed.shape\n",
        "print(X_transformed.shape)\n",
        "\n",
        "\n",
        "tree_model = DecisionTreeClassifier(criterion='gini', max_depth=4, random_state=1)\n",
        "tree_model.fit(X_train_kpca, y_train)\n",
        "y_pred = tree_model.predict(X_test_kpca)\n",
        "\n",
        "acc = accuracy_score(y_pred, y_test)\n",
        "print(\"DT+kpca acc= \", acc)"
      ],
      "metadata": {
        "id": "Da_FzYjoAdtT",
        "colab": {
          "base_uri": "https://localhost:8080/"
        },
        "outputId": "ecb2ae62-b081-4b50-9850-7a48d61cf736"
      },
      "execution_count": 14,
      "outputs": [
        {
          "output_type": "stream",
          "name": "stdout",
          "text": [
            "(1000, 7)\n",
            "DT+kpca acc=  1.0\n"
          ]
        }
      ]
    },
    {
      "cell_type": "code",
      "source": [
        "# precision, recall, and f1 score testing\n",
        "print( precision_score( y_test, y_pred, average='weighted') )\n",
        "print( recall_score( y_test, y_pred, average='weighted') )\n",
        "print( f1_score( y_test, y_pred, average='weighted') )\n",
        "\n",
        "print(\"--------- %s seconds ---------\" % (time.time() - start3_time))"
      ],
      "metadata": {
        "id": "9isgxwb5ApGQ",
        "colab": {
          "base_uri": "https://localhost:8080/"
        },
        "outputId": "a8f6a2a1-c3e9-44cc-b1bf-ee4de86de31b"
      },
      "execution_count": 15,
      "outputs": [
        {
          "output_type": "stream",
          "name": "stdout",
          "text": [
            "1.0\n",
            "1.0\n",
            "1.0\n",
            "--------- 3.888777017593384 seconds ---------\n"
          ]
        }
      ]
    }
  ]
}